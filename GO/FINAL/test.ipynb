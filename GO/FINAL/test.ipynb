{
 "cells": [
  {
   "cell_type": "code",
   "execution_count": 1,
   "metadata": {},
   "outputs": [],
   "source": [
    "import model1 \n",
    "import numpy as np\n",
    "import nn\n",
    "import main "
   ]
  },
  {
   "cell_type": "code",
   "execution_count": 2,
   "metadata": {},
   "outputs": [
    {
     "name": "stdout",
     "output_type": "stream",
     "text": [
      "nn:param:he:- param initilized HE random normal\n",
      "nn:param:he:- param initilized HE random normal\n",
      "nn:param:he:- param initilized HE random normal\n",
      "nn:param:he:- param initilized HE random normal\n",
      "nn:param:he:- param initilized HE random normal\n",
      "nn:param:he:- param initilized HE random normal\n"
     ]
    }
   ],
   "source": [
    "md1  = model1.model1()\n",
    "md2 = model1.model1()"
   ]
  },
  {
   "cell_type": "code",
   "execution_count": 3,
   "metadata": {},
   "outputs": [
    {
     "data": {
      "text/plain": [
       "array([[0., 0., 0., 0., 0.],\n",
       "       [0., 0., 0., 0., 0.],\n",
       "       [0., 0., 0., 0., 0.],\n",
       "       [0., 0., 0., 0., 0.],\n",
       "       [0., 0., 0., 0., 0.]])"
      ]
     },
     "execution_count": 3,
     "metadata": {},
     "output_type": "execute_result"
    }
   ],
   "source": [
    "#Initial board state\n",
    "x = np.zeros((5,5))\n",
    "x"
   ]
  },
  {
   "cell_type": "code",
   "execution_count": 6,
   "metadata": {},
   "outputs": [
    {
     "name": "stdout",
     "output_type": "stream",
     "text": [
      "0 8 24 24\n",
      "16 24 0 0\n",
      "6 18 0 0\n",
      "22 18 0 -25\n",
      "22 18 -25 -25\n",
      "22 18 -25 -25\n",
      "22 18 -25 -25\n",
      "22 18 -25 -25\n",
      "22 18 -25 -25\n",
      "22 18 -25 -25\n",
      "22 18 -25 -25\n",
      "22 18 -25 -25\n",
      "22 18 -25 -25\n",
      "22 18 -25 -25\n",
      "22 18 -25 -25\n",
      "22 18 -25 -25\n",
      "22 18 -25 -25\n",
      "22 18 -25 -25\n",
      "22 18 -25 -25\n",
      "22 18 -25 -25\n"
     ]
    }
   ],
   "source": [
    "for i in range(20):\n",
    "    #first player\n",
    "    v1 = md1.forward(x,update=False)\n",
    "    a1 = np.argmax(v1)\n",
    "    x,r1 = main.go(x,a1,1)\n",
    "    \n",
    "    v2 = md2.forward(x,update=False)\n",
    "    a2 = np.argmax(v2)\n",
    "    x,r2 = main.go(x,a2,2)\n",
    "    \n",
    "    print(a1,a2,r1,r2)"
   ]
  },
  {
   "cell_type": "code",
   "execution_count": 7,
   "metadata": {},
   "outputs": [
    {
     "data": {
      "text/plain": [
       "array([[1., 0., 0., 0., 0.],\n",
       "       [0., 1., 0., 2., 0.],\n",
       "       [0., 0., 0., 0., 0.],\n",
       "       [0., 1., 0., 2., 0.],\n",
       "       [0., 0., 1., 0., 2.]])"
      ]
     },
     "execution_count": 7,
     "metadata": {},
     "output_type": "execute_result"
    }
   ],
   "source": [
    "x"
   ]
  },
  {
   "cell_type": "code",
   "execution_count": null,
   "metadata": {},
   "outputs": [],
   "source": []
  },
  {
   "cell_type": "code",
   "execution_count": null,
   "metadata": {},
   "outputs": [],
   "source": []
  }
 ],
 "metadata": {
  "kernelspec": {
   "display_name": "Python 3",
   "language": "python",
   "name": "python3"
  },
  "language_info": {
   "codemirror_mode": {
    "name": "ipython",
    "version": 3
   },
   "file_extension": ".py",
   "mimetype": "text/x-python",
   "name": "python",
   "nbconvert_exporter": "python",
   "pygments_lexer": "ipython3",
   "version": "3.6.5"
  }
 },
 "nbformat": 4,
 "nbformat_minor": 2
}
