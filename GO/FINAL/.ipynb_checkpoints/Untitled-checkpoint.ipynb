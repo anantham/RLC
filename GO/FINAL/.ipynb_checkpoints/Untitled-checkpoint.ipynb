{
 "cells": [
  {
   "cell_type": "code",
   "execution_count": 2,
   "metadata": {},
   "outputs": [
    {
     "ename": "FileNotFoundError",
     "evalue": "[Errno 2] No such file or directory: 'data/mnist/test.npy'",
     "output_type": "error",
     "traceback": [
      "\u001b[1;31m---------------------------------------------------------------------------\u001b[0m",
      "\u001b[1;31mFileNotFoundError\u001b[0m                         Traceback (most recent call last)",
      "\u001b[1;32m<ipython-input-2-cb16bf92435c>\u001b[0m in \u001b[0;36m<module>\u001b[1;34m\u001b[0m\n\u001b[0;32m      3\u001b[0m \u001b[1;33m\u001b[0m\u001b[0m\n\u001b[0;32m      4\u001b[0m \u001b[1;33m\u001b[0m\u001b[0m\n\u001b[1;32m----> 5\u001b[1;33m \u001b[0mtti\u001b[0m\u001b[1;33m,\u001b[0m \u001b[0mttl\u001b[0m \u001b[1;33m=\u001b[0m \u001b[0mnp\u001b[0m\u001b[1;33m.\u001b[0m\u001b[0mload\u001b[0m\u001b[1;33m(\u001b[0m\u001b[1;34m'data/mnist/test.npy'\u001b[0m\u001b[1;33m,\u001b[0m \u001b[0mallow_pickle\u001b[0m\u001b[1;33m=\u001b[0m\u001b[1;32mTrue\u001b[0m\u001b[1;33m)\u001b[0m\u001b[1;33m\u001b[0m\u001b[1;33m\u001b[0m\u001b[0m\n\u001b[0m",
      "\u001b[1;32mD:\\Software\\Anaconda\\lib\\site-packages\\numpy\\lib\\npyio.py\u001b[0m in \u001b[0;36mload\u001b[1;34m(file, mmap_mode, allow_pickle, fix_imports, encoding)\u001b[0m\n\u001b[0;32m    420\u001b[0m         \u001b[0mown_fid\u001b[0m \u001b[1;33m=\u001b[0m \u001b[1;32mFalse\u001b[0m\u001b[1;33m\u001b[0m\u001b[1;33m\u001b[0m\u001b[0m\n\u001b[0;32m    421\u001b[0m     \u001b[1;32melse\u001b[0m\u001b[1;33m:\u001b[0m\u001b[1;33m\u001b[0m\u001b[1;33m\u001b[0m\u001b[0m\n\u001b[1;32m--> 422\u001b[1;33m         \u001b[0mfid\u001b[0m \u001b[1;33m=\u001b[0m \u001b[0mopen\u001b[0m\u001b[1;33m(\u001b[0m\u001b[0mos_fspath\u001b[0m\u001b[1;33m(\u001b[0m\u001b[0mfile\u001b[0m\u001b[1;33m)\u001b[0m\u001b[1;33m,\u001b[0m \u001b[1;34m\"rb\"\u001b[0m\u001b[1;33m)\u001b[0m\u001b[1;33m\u001b[0m\u001b[1;33m\u001b[0m\u001b[0m\n\u001b[0m\u001b[0;32m    423\u001b[0m         \u001b[0mown_fid\u001b[0m \u001b[1;33m=\u001b[0m \u001b[1;32mTrue\u001b[0m\u001b[1;33m\u001b[0m\u001b[1;33m\u001b[0m\u001b[0m\n\u001b[0;32m    424\u001b[0m \u001b[1;33m\u001b[0m\u001b[0m\n",
      "\u001b[1;31mFileNotFoundError\u001b[0m: [Errno 2] No such file or directory: 'data/mnist/test.npy'"
     ]
    }
   ],
   "source": [
    "import numpy as np\n",
    "import nn\n",
    "\n",
    "\n",
    "tti, ttl = np.load('data/mnist/test.npy', allow_pickle=True)"
   ]
  },
  {
   "cell_type": "code",
   "execution_count": null,
   "metadata": {},
   "outputs": [],
   "source": [
    "## using model.fit,  define loss, layer\n",
    "\n",
    "model = nn.sequential(\n",
    "    layers=[\n",
    "nn.convolve3d(shape=(5,1,9,9), mode='valid'),\n",
    "nn.add(),\n",
    "nn.relu(),\n",
    "nn.convolve3d(shape=(10,5,20,20), mode='valid'),\n",
    "nn.add(),\n",
    "nn.linear(shape=(10,10)),\n",
    "nn.softmax()],\n",
    "    \n",
    "    loss = nn.cre()\n",
    "\n",
    "    )"
   ]
  },
  {
   "cell_type": "code",
   "execution_count": null,
   "metadata": {},
   "outputs": [],
   "source": [
    "A = []\n",
    "for i in range(10000):\n",
    "    model.fit(tti[i],ttl[i])\n",
    "    pred = np.argmax(model.y)\n",
    "    lab = np.argmax(ttl[i])\n",
    "    A.append(lab==pred)\n",
    "    print(np.mean(A))"
   ]
  },
  {
   "cell_type": "code",
   "execution_count": null,
   "metadata": {},
   "outputs": [],
   "source": [
    "## using forward, loss backward, update,  no need to define loss here\n",
    "\n",
    "model = nn.sequential(\n",
    "    layers=[\n",
    "nn.convolve3d(shape=(5,1,9,9), mode='valid'),\n",
    "nn.add(),\n",
    "nn.relu(),\n",
    "nn.convolve3d(shape=(10,5,20,20), mode='valid'),\n",
    "nn.add(),\n",
    "nn.linear(shape=(10,10)),\n",
    "nn.softmax()],\n",
    "\n",
    "    )\n",
    "loss = nn.cre()"
   ]
  },
  {
   "cell_type": "code",
   "execution_count": null,
   "metadata": {},
   "outputs": [],
   "source": [
    "A = []\n",
    "for x,y in zip(tti,ttl):\n",
    "    x = model.forward(x)\n",
    "    dy = nn.cre.forward(x,y)\n",
    "    dy = model.backward(dy)\n",
    "    model.update()\n",
    "    \n",
    "    pred = np.argmax(x)\n",
    "    lab = np.argmax(y)\n",
    "    A.append(lab==pred)\n",
    "    \n",
    "    mod\n",
    "    print(np.mean(A))"
   ]
  },
  {
   "cell_type": "code",
   "execution_count": null,
   "metadata": {},
   "outputs": [],
   "source": [
    "conv1 = nn.convolve3d(shape=(5,1,9,9), mode='valid')\n",
    "add1  = nn.add()\n",
    "relu1 = nn.relu()\n",
    "conv2 = nn.convolve3d(shape=(10,5,20,20), mode='valid')\n",
    "add2 = nn.add()\n",
    "lin = nn.linear()\n",
    "softmax = nn.softmax()\n",
    "cre = nn.cre()\n"
   ]
  },
  {
   "cell_type": "code",
   "execution_count": null,
   "metadata": {},
   "outputs": [],
   "source": []
  }
 ],
 "metadata": {
  "kernelspec": {
   "display_name": "Python 3",
   "language": "python",
   "name": "python3"
  },
  "language_info": {
   "codemirror_mode": {
    "name": "ipython",
    "version": 3
   },
   "file_extension": ".py",
   "mimetype": "text/x-python",
   "name": "python",
   "nbconvert_exporter": "python",
   "pygments_lexer": "ipython3",
   "version": "3.7.3"
  }
 },
 "nbformat": 4,
 "nbformat_minor": 4
}
