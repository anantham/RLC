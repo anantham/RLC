{
 "cells": [
  {
   "cell_type": "code",
   "execution_count": 1,
   "metadata": {},
   "outputs": [],
   "source": [
    "import numpy as np\n",
    "import nn\n",
    "\n",
    "def model1():\n",
    "    model = nn.sequential(\n",
    "    layers=\n",
    "    [nn.temp1(),\n",
    "    nn.convolve3d(shape =(5,1,3,3), mode = 'valid', param = 'he'),\n",
    "    nn.add(),\n",
    "    nn.convolve3d(shape=(25,5,3,3), mode = 'valid', param = 'he'),\n",
    "    nn.add(),\n",
    "    nn.linear(shape=(25,25), param = 'he'),\n",
    "    nn.add(),\n",
    "    nn.sigmoid()]\n",
    "\n",
    "    )\n",
    "    return model "
   ]
  },
  {
   "cell_type": "code",
   "execution_count": 2,
   "metadata": {},
   "outputs": [
    {
     "name": "stdout",
     "output_type": "stream",
     "text": [
      "nn:param:he:- param initilized HE random normal\n",
      "nn:param:he:- param initilized HE random normal\n",
      "nn:param:he:- param initilized HE random normal\n"
     ]
    }
   ],
   "source": [
    "model = model1()\n",
    "w = np.load('weights81.npy', allow_pickle= True)\n",
    "model.set_weights(w)"
   ]
  },
  {
   "cell_type": "code",
   "execution_count": 3,
   "metadata": {},
   "outputs": [
    {
     "data": {
      "text/plain": [
       "array([[[[ True,  True,  True],\n",
       "         [ True,  True,  True],\n",
       "         [ True,  True,  True]]],\n",
       "\n",
       "\n",
       "       [[[ True,  True,  True],\n",
       "         [ True,  True,  True],\n",
       "         [ True,  True,  True]]],\n",
       "\n",
       "\n",
       "       [[[ True,  True,  True],\n",
       "         [ True,  True,  True],\n",
       "         [ True,  True,  True]]],\n",
       "\n",
       "\n",
       "       [[[ True,  True,  True],\n",
       "         [ True,  True,  True],\n",
       "         [ True,  True,  True]]],\n",
       "\n",
       "\n",
       "       [[[ True,  True,  True],\n",
       "         [ True,  True,  True],\n",
       "         [ True,  True,  True]]]])"
      ]
     },
     "execution_count": 3,
     "metadata": {},
     "output_type": "execute_result"
    }
   ],
   "source": [
    "#sanity check\n",
    "v = model.get_weights()\n",
    "w[1]==v[1]"
   ]
  },
  {
   "cell_type": "code",
   "execution_count": 10,
   "metadata": {},
   "outputs": [],
   "source": [
    "state = np.random.randint(0,3,(5,5))  "
   ]
  },
  {
   "cell_type": "code",
   "execution_count": 12,
   "metadata": {},
   "outputs": [
    {
     "name": "stdout",
     "output_type": "stream",
     "text": [
      "[0.02365536 0.02400705 0.02359149 0.02443015 0.02348359 0.02450498\n",
      " 0.02402139 0.02420385 0.02430246 0.0240033  0.02381784 0.02397795\n",
      " 0.02382003 0.272713   0.02365534 0.02358853 0.02422193 0.02414178\n",
      " 0.02440238 0.02421088 0.0237552  0.02391836 0.27096115 0.02387199\n",
      " 0.02370842]\n",
      "[[2 2 2 0 1]\n",
      " [0 1 2 0 1]\n",
      " [1 2 0 1 0]\n",
      " [2 1 0 1 1]\n",
      " [2 1 2 0 2]]\n",
      "[0.02365536 0.02400705 0.02359149 0.         0.02348359 0.\n",
      " 0.02402139 0.02420385 0.         0.0240033  0.02381784 0.02397795\n",
      " 0.         0.272713   0.         0.02358853 0.02422193 0.\n",
      " 0.02440238 0.02421088 0.0237552  0.02391836 0.27096115 0.\n",
      " 0.02370842]\n",
      "13\n"
     ]
    }
   ],
   "source": [
    "#model prediction\n",
    "value = model.forward(state)\n",
    "print(value)\n",
    "print(state)\n",
    "empty = state.flatten()\n",
    "empty[empty>1] = 1\n",
    "print(value*empty)\n",
    "action = np.argmax(value*empty)\n",
    "print(action)"
   ]
  },
  {
   "cell_type": "code",
   "execution_count": 17,
   "metadata": {},
   "outputs": [
    {
     "name": "stdout",
     "output_type": "stream",
     "text": [
      "Enter your move\n",
      "0\n"
     ]
    },
    {
     "ename": "TypeError",
     "evalue": "not all arguments converted during string formatting",
     "output_type": "error",
     "traceback": [
      "\u001b[1;31m---------------------------------------------------------------------------\u001b[0m",
      "\u001b[1;31mTypeError\u001b[0m                                 Traceback (most recent call last)",
      "\u001b[1;32m<ipython-input-17-56983139c4a4>\u001b[0m in \u001b[0;36m<module>\u001b[1;34m\u001b[0m\n\u001b[0;32m     19\u001b[0m     \u001b[0mmove\u001b[0m \u001b[1;33m=\u001b[0m \u001b[0minput\u001b[0m\u001b[1;33m(\u001b[0m\u001b[1;33m)\u001b[0m\u001b[1;33m\u001b[0m\u001b[1;33m\u001b[0m\u001b[0m\n\u001b[0;32m     20\u001b[0m \u001b[1;33m\u001b[0m\u001b[0m\n\u001b[1;32m---> 21\u001b[1;33m     \u001b[0mstateNew\u001b[0m\u001b[1;33m,\u001b[0m \u001b[0mr\u001b[0m \u001b[1;33m=\u001b[0m \u001b[0mmain\u001b[0m\u001b[1;33m.\u001b[0m\u001b[0mgo\u001b[0m\u001b[1;33m(\u001b[0m\u001b[0mstate\u001b[0m\u001b[1;33m,\u001b[0m\u001b[0mmove\u001b[0m\u001b[1;33m,\u001b[0m\u001b[0mplayer\u001b[0m\u001b[1;33m)\u001b[0m\u001b[1;33m\u001b[0m\u001b[1;33m\u001b[0m\u001b[0m\n\u001b[0m\u001b[0;32m     22\u001b[0m     \u001b[0mplayer\u001b[0m \u001b[1;33m=\u001b[0m \u001b[1;36m3\u001b[0m \u001b[1;33m-\u001b[0m \u001b[0mplayer\u001b[0m\u001b[1;33m\u001b[0m\u001b[1;33m\u001b[0m\u001b[0m\n\u001b[0;32m     23\u001b[0m \u001b[1;33m\u001b[0m\u001b[0m\n",
      "\u001b[1;32m~\\OneDrive - Indian Institute of Science\\Documents\\IISc\\Semester 2\\Robot\\Project\\GO\\FINAL\\June 24\\main.py\u001b[0m in \u001b[0;36mgo\u001b[1;34m(state, action, player)\u001b[0m\n\u001b[0;32m    260\u001b[0m \u001b[1;31m# state is a numpy matrix of n,n 'action' is a position to play by 'player' [0,n^2-1], player is 1 or 2 depending on white or black\u001b[0m\u001b[1;33m\u001b[0m\u001b[1;33m\u001b[0m\u001b[1;33m\u001b[0m\u001b[0m\n\u001b[0;32m    261\u001b[0m \u001b[1;32mdef\u001b[0m \u001b[0mgo\u001b[0m\u001b[1;33m(\u001b[0m\u001b[0mstate\u001b[0m\u001b[1;33m,\u001b[0m \u001b[0maction\u001b[0m\u001b[1;33m,\u001b[0m \u001b[0mplayer\u001b[0m\u001b[1;33m)\u001b[0m\u001b[1;33m:\u001b[0m\u001b[1;33m\u001b[0m\u001b[1;33m\u001b[0m\u001b[0m\n\u001b[1;32m--> 262\u001b[1;33m         \u001b[0my\u001b[0m\u001b[1;33m,\u001b[0m \u001b[0mx\u001b[0m \u001b[1;33m=\u001b[0m \u001b[0mgr\u001b[0m\u001b[1;33m.\u001b[0m\u001b[0mlocation_to_cordinate\u001b[0m\u001b[1;33m(\u001b[0m\u001b[1;33m[\u001b[0m\u001b[0maction\u001b[0m\u001b[1;33m]\u001b[0m\u001b[1;33m,\u001b[0m\u001b[0msize\u001b[0m \u001b[1;33m=\u001b[0m \u001b[0mpm\u001b[0m\u001b[1;33m.\u001b[0m\u001b[0msize\u001b[0m\u001b[1;33m,\u001b[0m \u001b[0mbox\u001b[0m \u001b[1;33m=\u001b[0m \u001b[1;36m1\u001b[0m\u001b[1;33m)\u001b[0m\u001b[1;33m[\u001b[0m\u001b[1;36m0\u001b[0m\u001b[1;33m]\u001b[0m\u001b[1;33m\u001b[0m\u001b[1;33m\u001b[0m\u001b[0m\n\u001b[0m\u001b[0;32m    263\u001b[0m         \u001b[0maction\u001b[0m \u001b[1;33m=\u001b[0m \u001b[1;33m(\u001b[0m\u001b[0mx\u001b[0m\u001b[1;33m,\u001b[0m\u001b[0my\u001b[0m\u001b[1;33m)\u001b[0m\u001b[1;33m\u001b[0m\u001b[1;33m\u001b[0m\u001b[0m\n\u001b[0;32m    264\u001b[0m \u001b[1;33m\u001b[0m\u001b[0m\n",
      "\u001b[1;32m~\\OneDrive - Indian Institute of Science\\Documents\\IISc\\Semester 2\\Robot\\Project\\GO\\FINAL\\June 24\\graphic.py\u001b[0m in \u001b[0;36mlocation_to_cordinate\u001b[1;34m(player_int_location, size, box)\u001b[0m\n\u001b[0;32m     29\u001b[0m     \u001b[0mmargin\u001b[0m \u001b[1;33m=\u001b[0m \u001b[0mint\u001b[0m\u001b[1;33m(\u001b[0m\u001b[0mbox\u001b[0m\u001b[1;33m/\u001b[0m\u001b[1;36m2\u001b[0m\u001b[1;33m)\u001b[0m\u001b[1;33m\u001b[0m\u001b[1;33m\u001b[0m\u001b[0m\n\u001b[0;32m     30\u001b[0m     \u001b[1;32mfor\u001b[0m \u001b[0ml\u001b[0m \u001b[1;32min\u001b[0m \u001b[0mplayer_int_location\u001b[0m\u001b[1;33m:\u001b[0m\u001b[1;33m\u001b[0m\u001b[1;33m\u001b[0m\u001b[0m\n\u001b[1;32m---> 31\u001b[1;33m         \u001b[0mx\u001b[0m \u001b[1;33m=\u001b[0m \u001b[0mbox\u001b[0m\u001b[1;33m*\u001b[0m\u001b[1;33m(\u001b[0m\u001b[0ml\u001b[0m\u001b[1;33m%\u001b[0m\u001b[0msize\u001b[0m\u001b[1;33m)\u001b[0m \u001b[1;33m+\u001b[0m \u001b[0mmargin\u001b[0m     \u001b[1;31m# X coordinate\u001b[0m\u001b[1;33m\u001b[0m\u001b[1;33m\u001b[0m\u001b[0m\n\u001b[0m\u001b[0;32m     32\u001b[0m         \u001b[0my\u001b[0m \u001b[1;33m=\u001b[0m \u001b[0mbox\u001b[0m\u001b[1;33m*\u001b[0m\u001b[0mint\u001b[0m\u001b[1;33m(\u001b[0m\u001b[0mnp\u001b[0m\u001b[1;33m.\u001b[0m\u001b[0mfloor\u001b[0m\u001b[1;33m(\u001b[0m\u001b[0ml\u001b[0m\u001b[1;33m/\u001b[0m\u001b[0msize\u001b[0m\u001b[1;33m)\u001b[0m\u001b[1;33m)\u001b[0m \u001b[1;33m+\u001b[0m \u001b[0mmargin\u001b[0m  \u001b[1;31m# Y coordinate\u001b[0m\u001b[1;33m\u001b[0m\u001b[1;33m\u001b[0m\u001b[0m\n\u001b[0;32m     33\u001b[0m         \u001b[0mcoordinate\u001b[0m\u001b[1;33m.\u001b[0m\u001b[0mappend\u001b[0m\u001b[1;33m(\u001b[0m\u001b[1;33m(\u001b[0m\u001b[0mx\u001b[0m\u001b[1;33m,\u001b[0m\u001b[0my\u001b[0m\u001b[1;33m)\u001b[0m\u001b[1;33m)\u001b[0m\u001b[1;33m\u001b[0m\u001b[1;33m\u001b[0m\u001b[0m\n",
      "\u001b[1;31mTypeError\u001b[0m: not all arguments converted during string formatting"
     ]
    }
   ],
   "source": [
    "import pm\n",
    "import main\n",
    "\n",
    "player = 1\n",
    "\n",
    "board = {1:[], 2:[]}\n",
    "points = {1:0, 2:0}\n",
    "turn = 0 \n",
    "hist = [] # history of board positions\n",
    "\n",
    "# initially all positions belong to blank - set(board[1]) - set(board[2]))\n",
    "#board[0] = list(set(list(product(range(size), repeat = 2))))\n",
    "\n",
    "state = np.zeros((pm.size,pm.size))\n",
    "\n",
    "while(turn<pm.size**2):\n",
    "\t#randMove = board[0][np.random.randint(len(board[0]))]\n",
    "    print(\"Enter your move\")\n",
    "    move = input()\n",
    "    \n",
    "    stateNew, r = main.go(state,int(move),player)\n",
    "    player = 3 - player \n",
    "    \n",
    "    print('next state {}, reward = {}'.format(stateNew,r))\n",
    "    turn+=1\n",
    "    \n",
    "    value = model.forward(stateNew)\n",
    "    empty = state.flatten()\n",
    "    empty[empty>1] = 1\n",
    "    action = np.argmax(value*empty)\n",
    "    state, r = main.go(stateNew,action,player)\n",
    "    player = 3 - player \n",
    "    \n",
    "    print('next state {}, reward = {}'.format(state,r))\n",
    "    turn += 1"
   ]
  },
  {
   "cell_type": "code",
   "execution_count": null,
   "metadata": {},
   "outputs": [],
   "source": []
  },
  {
   "cell_type": "code",
   "execution_count": null,
   "metadata": {},
   "outputs": [],
   "source": []
  }
 ],
 "metadata": {
  "kernelspec": {
   "display_name": "Python 3",
   "language": "python",
   "name": "python3"
  },
  "language_info": {
   "codemirror_mode": {
    "name": "ipython",
    "version": 3
   },
   "file_extension": ".py",
   "mimetype": "text/x-python",
   "name": "python",
   "nbconvert_exporter": "python",
   "pygments_lexer": "ipython3",
   "version": "3.7.3"
  }
 },
 "nbformat": 4,
 "nbformat_minor": 4
}
